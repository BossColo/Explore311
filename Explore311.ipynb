{
 "cells": [
  {
   "cell_type": "code",
   "execution_count": 11,
   "metadata": {},
   "outputs": [],
   "source": [
    "%matplotlib inline"
   ]
  },
  {
   "cell_type": "markdown",
   "metadata": {},
   "source": [
    "## Necessary Imports"
   ]
  },
  {
   "cell_type": "code",
   "execution_count": 12,
   "metadata": {},
   "outputs": [],
   "source": [
    "import os\n",
    "import posixpath\n",
    "import requests\n",
    "\n",
    "import pandas as pd\n",
    "\n",
    "from urllib.parse import urlencode"
   ]
  },
  {
   "cell_type": "markdown",
   "metadata": {},
   "source": [
    "## Parameters\n",
    "___\n",
    "Set parameters here to match the analysis you'd like to preform."
   ]
  },
  {
   "cell_type": "code",
   "execution_count": 13,
   "metadata": {},
   "outputs": [],
   "source": [
    "# Year of 311 complaints to explore\n",
    "year = 2017\n",
    "# Number of top comlaints to use in part 1\n",
    "part_1_top_complaints = 10\n",
    "# Number of top complaints to use in part 2\n",
    "part_2_top_complaints = 10\n",
    "# Number of top zip codes to use in part 2\n",
    "part_2_top_zips = 10\n",
    "# When fetching data, whether or not to bother checking for data locally before hitting the apis\n",
    "overwrite_311 = True\n",
    "overwrite_census = True"
   ]
  },
  {
   "cell_type": "markdown",
   "metadata": {},
   "source": [
    "## Constants\n",
    "___\n",
    "Important constants, do not alter if not necessary."
   ]
  },
  {
   "cell_type": "code",
   "execution_count": 60,
   "metadata": {},
   "outputs": [],
   "source": [
    "api_url_311 = 'https://data.cityofnewyork.us/resource/fhrw-4uyv.json'\n",
    "api_url_census = 'https://api.census.gov/data/2010/sf1?get=P0010001&for=zip%20code%20tabulation%20area:*&in=state:36'\n",
    "api_headers = {'X-App-Token': 'nsmatxqj7NfjKxyB93xrdttB8'}"
   ]
  },
  {
   "cell_type": "markdown",
   "metadata": {},
   "source": [
    "## Fetching Data"
   ]
  },
  {
   "cell_type": "code",
   "execution_count": 15,
   "metadata": {},
   "outputs": [],
   "source": [
    "if overwrite_311 or not os.path.isfile('explore311.complaints.csv'):\n",
    "    # First get the count of records to fetch, as the default is 1000\n",
    "    count_dict_311 = {'$select': 'count(unique_key)', '$where': f'date_extract_y(created_date) = {str(year)}'}\n",
    "    count_311 = requests.get(\n",
    "        posixpath.join(api_url_311, f'?{urlencode(count_dict_311)}'), headers=api_headers).json()[0]['count_unique_key']\n",
    "\n",
    "    query_dict_311 = {'$select': 'complaint_type, incident_zip, borough', \n",
    "                      '$where': f'date_extract_y(created_date) = {str(year)}', '$limit': count_311}\n",
    "    data_311 = pd.DataFrame(requests.get(\n",
    "        posixpath.join(api_url_311, f'?{urlencode(query_dict_311)}'), headers=api_headers).json())\n",
    "    \n",
    "    # Parse the zip code field using str.extract, a vectorized regex function\n",
    "    data_311['incident_zip'] = data_311.incident_zip.str.extract(r'(\\d{5})', expand=False)\n",
    "    \n",
    "    data_311.to_csv('explore311.complaints.csv', index=False)\n",
    "else:\n",
    "    data_311 = pd.read_csv('explore311.complaints.csv', dtype=str)"
   ]
  },
  {
   "cell_type": "code",
   "execution_count": 90,
   "metadata": {},
   "outputs": [],
   "source": [
    "if overwrite_census or not os.path.isfile('explore311.census.csv'):\n",
    "    \n",
    "    data_census = pd.DataFrame(requests.get(api_url_census).json())\n",
    "    \n",
    "    # The census api returns lists of rows, so some formatting must be done\n",
    "    data_census = data_census.drop(0).drop(1, axis=1).rename(columns={0: 'population', 2: 'zip'}).set_index('zip')\n",
    "    \n",
    "    # It also returns all zip codes within NY. Filter out zips that aren't in the 311 data\n",
    "    data_census = data_census[data_census.index.isin(data_311.incident_zip)]\n",
    "    \n",
    "    data_census['population'] = data_census.population.astype(int)\n",
    "                               \n",
    "    data_census.to_csv('explore311.census.csv')\n",
    "else:\n",
    "    data_census = pd.read_csv('explore311.census.csv', dtype={'count_participants': int})"
   ]
  },
  {
   "cell_type": "markdown",
   "metadata": {},
   "source": [
    "# Part 1\n",
    "___\n",
    "_Consider only the 10 most common overall complaint types. For each borough, how many of each of those 10 types were there in 2017?_"
   ]
  },
  {
   "cell_type": "markdown",
   "metadata": {},
   "source": [
    "### First, let's see what boroughs are included in the data set."
   ]
  },
  {
   "cell_type": "code",
   "execution_count": 21,
   "metadata": {},
   "outputs": [
    {
     "data": {
      "text/plain": [
       "array(['BROOKLYN', 'MANHATTAN', 'BRONX', 'QUEENS', 'STATEN ISLAND',\n",
       "       'Unspecified'], dtype=object)"
      ]
     },
     "execution_count": 21,
     "metadata": {},
     "output_type": "execute_result"
    }
   ],
   "source": [
    "data_311.borough.unique()"
   ]
  },
  {
   "cell_type": "markdown",
   "metadata": {},
   "source": [
    "### We don't care about `Unspecified` as it's not a borough. Filter it out. Also, we'll only need the `complaint_type` and `borough` features for this task, so let's select them."
   ]
  },
  {
   "cell_type": "code",
   "execution_count": 22,
   "metadata": {},
   "outputs": [],
   "source": [
    "data_311_1 = data_311[data_311.borough != 'Unspecified'][['complaint_type', 'borough']].copy()"
   ]
  },
  {
   "cell_type": "code",
   "execution_count": 23,
   "metadata": {},
   "outputs": [],
   "source": [
    "top_complaints_1 = data_311_1.groupby('complaint_type').size().nlargest(part_1_top_complaints)"
   ]
  },
  {
   "cell_type": "markdown",
   "metadata": {},
   "source": [
    "### Here we can see the top n overall complaints. `Noise - Residential` is the number one complaint across all boroughs."
   ]
  },
  {
   "cell_type": "code",
   "execution_count": 24,
   "metadata": {},
   "outputs": [
    {
     "data": {
      "text/plain": [
       "complaint_type\n",
       "Noise - Residential        227295\n",
       "HEAT/HOT WATER             211601\n",
       "Illegal Parking            142574\n",
       "Blocked Driveway           133660\n",
       "Street Condition            88066\n",
       "UNSANITARY CONDITION        78767\n",
       "Noise - Street/Sidewalk     72133\n",
       "Water System                62334\n",
       "Noise                       58239\n",
       "PAINT/PLASTER               56740\n",
       "dtype: int64"
      ]
     },
     "execution_count": 24,
     "metadata": {},
     "output_type": "execute_result"
    }
   ],
   "source": [
    "top_complaints_1"
   ]
  },
  {
   "cell_type": "markdown",
   "metadata": {},
   "source": [
    "### Now, let's filter out all the data that doesn't fit into those top n categories, then group the data by borough. Once that's done, on each borough, we group by complaint type. As we've already filtered out the complaints not in the top n, we just have to get the size of each complaint group and return it to see the numbers of complaints by complaint type by borough."
   ]
  },
  {
   "cell_type": "code",
   "execution_count": 25,
   "metadata": {},
   "outputs": [],
   "source": [
    "borough_counts = data_311_1[data_311_1.complaint_type.isin(top_complaints_1.index)].groupby('borough')\\\n",
    "    .apply(lambda borough: borough.groupby('complaint_type').size())"
   ]
  },
  {
   "cell_type": "code",
   "execution_count": 26,
   "metadata": {},
   "outputs": [
    {
     "data": {
      "text/html": [
       "<div>\n",
       "<style scoped>\n",
       "    .dataframe tbody tr th:only-of-type {\n",
       "        vertical-align: middle;\n",
       "    }\n",
       "\n",
       "    .dataframe tbody tr th {\n",
       "        vertical-align: top;\n",
       "    }\n",
       "\n",
       "    .dataframe thead th {\n",
       "        text-align: right;\n",
       "    }\n",
       "</style>\n",
       "<table border=\"1\" class=\"dataframe\">\n",
       "  <thead>\n",
       "    <tr style=\"text-align: right;\">\n",
       "      <th>complaint_type</th>\n",
       "      <th>Blocked Driveway</th>\n",
       "      <th>HEAT/HOT WATER</th>\n",
       "      <th>Illegal Parking</th>\n",
       "      <th>Noise</th>\n",
       "      <th>Noise - Residential</th>\n",
       "      <th>Noise - Street/Sidewalk</th>\n",
       "      <th>PAINT/PLASTER</th>\n",
       "      <th>Street Condition</th>\n",
       "      <th>UNSANITARY CONDITION</th>\n",
       "      <th>Water System</th>\n",
       "    </tr>\n",
       "    <tr>\n",
       "      <th>borough</th>\n",
       "      <th></th>\n",
       "      <th></th>\n",
       "      <th></th>\n",
       "      <th></th>\n",
       "      <th></th>\n",
       "      <th></th>\n",
       "      <th></th>\n",
       "      <th></th>\n",
       "      <th></th>\n",
       "      <th></th>\n",
       "    </tr>\n",
       "  </thead>\n",
       "  <tbody>\n",
       "    <tr>\n",
       "      <th>BRONX</th>\n",
       "      <td>24024</td>\n",
       "      <td>67934</td>\n",
       "      <td>15705</td>\n",
       "      <td>3013</td>\n",
       "      <td>57028</td>\n",
       "      <td>13977</td>\n",
       "      <td>19310</td>\n",
       "      <td>10908</td>\n",
       "      <td>24315</td>\n",
       "      <td>9823</td>\n",
       "    </tr>\n",
       "    <tr>\n",
       "      <th>BROOKLYN</th>\n",
       "      <td>48866</td>\n",
       "      <td>66268</td>\n",
       "      <td>54895</td>\n",
       "      <td>14769</td>\n",
       "      <td>66821</td>\n",
       "      <td>20971</td>\n",
       "      <td>19323</td>\n",
       "      <td>24580</td>\n",
       "      <td>26542</td>\n",
       "      <td>19107</td>\n",
       "    </tr>\n",
       "    <tr>\n",
       "      <th>MANHATTAN</th>\n",
       "      <td>3401</td>\n",
       "      <td>46210</td>\n",
       "      <td>19274</td>\n",
       "      <td>28235</td>\n",
       "      <td>50657</td>\n",
       "      <td>28908</td>\n",
       "      <td>11435</td>\n",
       "      <td>14031</td>\n",
       "      <td>14516</td>\n",
       "      <td>10427</td>\n",
       "    </tr>\n",
       "    <tr>\n",
       "      <th>QUEENS</th>\n",
       "      <td>54058</td>\n",
       "      <td>29127</td>\n",
       "      <td>45658</td>\n",
       "      <td>10401</td>\n",
       "      <td>46229</td>\n",
       "      <td>7480</td>\n",
       "      <td>5670</td>\n",
       "      <td>28955</td>\n",
       "      <td>11458</td>\n",
       "      <td>18066</td>\n",
       "    </tr>\n",
       "    <tr>\n",
       "      <th>STATEN ISLAND</th>\n",
       "      <td>3311</td>\n",
       "      <td>2062</td>\n",
       "      <td>7042</td>\n",
       "      <td>1821</td>\n",
       "      <td>6560</td>\n",
       "      <td>797</td>\n",
       "      <td>1002</td>\n",
       "      <td>9592</td>\n",
       "      <td>1936</td>\n",
       "      <td>4911</td>\n",
       "    </tr>\n",
       "  </tbody>\n",
       "</table>\n",
       "</div>"
      ],
      "text/plain": [
       "complaint_type  Blocked Driveway  HEAT/HOT WATER  Illegal Parking  Noise  \\\n",
       "borough                                                                    \n",
       "BRONX                      24024           67934            15705   3013   \n",
       "BROOKLYN                   48866           66268            54895  14769   \n",
       "MANHATTAN                   3401           46210            19274  28235   \n",
       "QUEENS                     54058           29127            45658  10401   \n",
       "STATEN ISLAND               3311            2062             7042   1821   \n",
       "\n",
       "complaint_type  Noise - Residential  Noise - Street/Sidewalk  PAINT/PLASTER  \\\n",
       "borough                                                                       \n",
       "BRONX                         57028                    13977          19310   \n",
       "BROOKLYN                      66821                    20971          19323   \n",
       "MANHATTAN                     50657                    28908          11435   \n",
       "QUEENS                        46229                     7480           5670   \n",
       "STATEN ISLAND                  6560                      797           1002   \n",
       "\n",
       "complaint_type  Street Condition  UNSANITARY CONDITION  Water System  \n",
       "borough                                                               \n",
       "BRONX                      10908                 24315          9823  \n",
       "BROOKLYN                   24580                 26542         19107  \n",
       "MANHATTAN                  14031                 14516         10427  \n",
       "QUEENS                     28955                 11458         18066  \n",
       "STATEN ISLAND               9592                  1936          4911  "
      ]
     },
     "execution_count": 26,
     "metadata": {},
     "output_type": "execute_result"
    }
   ],
   "source": [
    "borough_counts"
   ]
  },
  {
   "cell_type": "markdown",
   "metadata": {},
   "source": [
    "### A stacked bar chart will make it easier to see how each borough ranks in complaints and how the complaint types rank within each borough."
   ]
  },
  {
   "cell_type": "code",
   "execution_count": 27,
   "metadata": {},
   "outputs": [
    {
     "data": {
      "text/plain": [
       "<matplotlib.axes._subplots.AxesSubplot at 0x7f50677f6940>"
      ]
     },
     "execution_count": 27,
     "metadata": {},
     "output_type": "execute_result"
    },
    {
     "data": {
      "image/png": "[encoded data removed]",
      "text/plain": [
       "<Figure size 1080x720 with 1 Axes>"
      ]
     },
     "metadata": {},
     "output_type": "display_data"
    }
   ],
   "source": [
    "borough_counts.plot.bar(stacked=True, figsize=(15, 10))"
   ]
  },
  {
   "cell_type": "markdown",
   "metadata": {},
   "source": [
    "# Part 2\n",
    "___\n",
    "_Consider only the 10 most common overall complaint types.  For the 10 most populous zip codes, how many of each of those 10 types were there in 2017?_"
   ]
  },
  {
   "cell_type": "markdown",
   "metadata": {},
   "source": [
    "### For this part, we only need `complaint_type` and `incident_zip` to complete the analysis."
   ]
  },
  {
   "cell_type": "code",
   "execution_count": 68,
   "metadata": {},
   "outputs": [],
   "source": [
    "data_311_2 = data_311[['complaint_type', 'incident_zip']].copy()"
   ]
  },
  {
   "cell_type": "code",
   "execution_count": 69,
   "metadata": {},
   "outputs": [],
   "source": [
    "top_complaints_2 = data_311_2.groupby('complaint_type').size().nlargest(part_2_top_complaints)"
   ]
  },
  {
   "cell_type": "code",
   "execution_count": 78,
   "metadata": {},
   "outputs": [
    {
     "data": {
      "text/plain": [
       "complaint_type\n",
       "Noise - Residential        227688\n",
       "HEAT/HOT WATER             211601\n",
       "Illegal Parking            143247\n",
       "Blocked Driveway           134159\n",
       "Street Condition            88097\n",
       "UNSANITARY CONDITION        78767\n",
       "Noise - Street/Sidewalk     72165\n",
       "Water System                62334\n",
       "Noise                       58239\n",
       "PAINT/PLASTER               56740\n",
       "dtype: int64"
      ]
     },
     "execution_count": 78,
     "metadata": {},
     "output_type": "execute_result"
    }
   ],
   "source": [
    "top_complaints_2"
   ]
  },
  {
   "cell_type": "markdown",
   "metadata": {},
   "source": [
    "### Just to check we've got the right population data"
   ]
  },
  {
   "cell_type": "code",
   "execution_count": 105,
   "metadata": {},
   "outputs": [
    {
     "data": {
      "text/plain": [
       "8540085"
      ]
     },
     "execution_count": 105,
     "metadata": {},
     "output_type": "execute_result"
    }
   ],
   "source": [
    "# Should be about 8.5 million\n",
    "data_census.population.sum()"
   ]
  },
  {
   "cell_type": "code",
   "execution_count": 92,
   "metadata": {
    "scrolled": true
   },
   "outputs": [],
   "source": [
    "top_zips = data_census.nlargest(part_2_top_zips, 'population')"
   ]
  },
  {
   "cell_type": "markdown",
   "metadata": {},
   "source": [
    "### Cross-referencing with http://www.city-data.com/zipmaps/New-York-New-York.html, these numbers look to be correct."
   ]
  },
  {
   "cell_type": "code",
   "execution_count": 93,
   "metadata": {},
   "outputs": [
    {
     "data": {
      "text/html": [
       "<div>\n",
       "<style scoped>\n",
       "    .dataframe tbody tr th:only-of-type {\n",
       "        vertical-align: middle;\n",
       "    }\n",
       "\n",
       "    .dataframe tbody tr th {\n",
       "        vertical-align: top;\n",
       "    }\n",
       "\n",
       "    .dataframe thead th {\n",
       "        text-align: right;\n",
       "    }\n",
       "</style>\n",
       "<table border=\"1\" class=\"dataframe\">\n",
       "  <thead>\n",
       "    <tr style=\"text-align: right;\">\n",
       "      <th></th>\n",
       "      <th>population</th>\n",
       "    </tr>\n",
       "    <tr>\n",
       "      <th>zip</th>\n",
       "      <th></th>\n",
       "    </tr>\n",
       "  </thead>\n",
       "  <tbody>\n",
       "    <tr>\n",
       "      <th>11368</th>\n",
       "      <td>109931</td>\n",
       "    </tr>\n",
       "    <tr>\n",
       "      <th>11226</th>\n",
       "      <td>101572</td>\n",
       "    </tr>\n",
       "    <tr>\n",
       "      <th>11373</th>\n",
       "      <td>100820</td>\n",
       "    </tr>\n",
       "    <tr>\n",
       "      <th>11220</th>\n",
       "      <td>99598</td>\n",
       "    </tr>\n",
       "    <tr>\n",
       "      <th>11385</th>\n",
       "      <td>98592</td>\n",
       "    </tr>\n",
       "    <tr>\n",
       "      <th>10467</th>\n",
       "      <td>97060</td>\n",
       "    </tr>\n",
       "    <tr>\n",
       "      <th>10025</th>\n",
       "      <td>94600</td>\n",
       "    </tr>\n",
       "    <tr>\n",
       "      <th>11208</th>\n",
       "      <td>94469</td>\n",
       "    </tr>\n",
       "    <tr>\n",
       "      <th>11236</th>\n",
       "      <td>93877</td>\n",
       "    </tr>\n",
       "    <tr>\n",
       "      <th>11207</th>\n",
       "      <td>93386</td>\n",
       "    </tr>\n",
       "  </tbody>\n",
       "</table>\n",
       "</div>"
      ],
      "text/plain": [
       "       population\n",
       "zip              \n",
       "11368      109931\n",
       "11226      101572\n",
       "11373      100820\n",
       "11220       99598\n",
       "11385       98592\n",
       "10467       97060\n",
       "10025       94600\n",
       "11208       94469\n",
       "11236       93877\n",
       "11207       93386"
      ]
     },
     "execution_count": 93,
     "metadata": {},
     "output_type": "execute_result"
    }
   ],
   "source": [
    "top_zips"
   ]
  },
  {
   "cell_type": "markdown",
   "metadata": {},
   "source": [
    "### Now we can do the same as before, grouping into top `zips`, then into `complaint_type`."
   ]
  },
  {
   "cell_type": "code",
   "execution_count": 95,
   "metadata": {},
   "outputs": [],
   "source": [
    "top_zips_counts = data_311_2[\n",
    "    data_311_2.complaint_type.isin(top_complaints_2.index) & data_311_2.incident_zip.isin(top_zips.index)]\\\n",
    "    .groupby('incident_zip').apply(lambda zip: zip.groupby('complaint_type').size())"
   ]
  },
  {
   "cell_type": "code",
   "execution_count": 96,
   "metadata": {},
   "outputs": [
    {
     "data": {
      "text/html": [
       "<div>\n",
       "<style scoped>\n",
       "    .dataframe tbody tr th:only-of-type {\n",
       "        vertical-align: middle;\n",
       "    }\n",
       "\n",
       "    .dataframe tbody tr th {\n",
       "        vertical-align: top;\n",
       "    }\n",
       "\n",
       "    .dataframe thead th {\n",
       "        text-align: right;\n",
       "    }\n",
       "</style>\n",
       "<table border=\"1\" class=\"dataframe\">\n",
       "  <thead>\n",
       "    <tr style=\"text-align: right;\">\n",
       "      <th>complaint_type</th>\n",
       "      <th>Blocked Driveway</th>\n",
       "      <th>HEAT/HOT WATER</th>\n",
       "      <th>Illegal Parking</th>\n",
       "      <th>Noise</th>\n",
       "      <th>Noise - Residential</th>\n",
       "      <th>Noise - Street/Sidewalk</th>\n",
       "      <th>PAINT/PLASTER</th>\n",
       "      <th>Street Condition</th>\n",
       "      <th>UNSANITARY CONDITION</th>\n",
       "      <th>Water System</th>\n",
       "    </tr>\n",
       "    <tr>\n",
       "      <th>incident_zip</th>\n",
       "      <th></th>\n",
       "      <th></th>\n",
       "      <th></th>\n",
       "      <th></th>\n",
       "      <th></th>\n",
       "      <th></th>\n",
       "      <th></th>\n",
       "      <th></th>\n",
       "      <th></th>\n",
       "      <th></th>\n",
       "    </tr>\n",
       "  </thead>\n",
       "  <tbody>\n",
       "    <tr>\n",
       "      <th>10025</th>\n",
       "      <td>125</td>\n",
       "      <td>2397</td>\n",
       "      <td>736</td>\n",
       "      <td>1398</td>\n",
       "      <td>2085</td>\n",
       "      <td>1224</td>\n",
       "      <td>604</td>\n",
       "      <td>628</td>\n",
       "      <td>714</td>\n",
       "      <td>481</td>\n",
       "    </tr>\n",
       "    <tr>\n",
       "      <th>10467</th>\n",
       "      <td>2068</td>\n",
       "      <td>6041</td>\n",
       "      <td>986</td>\n",
       "      <td>285</td>\n",
       "      <td>5807</td>\n",
       "      <td>713</td>\n",
       "      <td>1955</td>\n",
       "      <td>612</td>\n",
       "      <td>2192</td>\n",
       "      <td>560</td>\n",
       "    </tr>\n",
       "    <tr>\n",
       "      <th>11207</th>\n",
       "      <td>2062</td>\n",
       "      <td>2461</td>\n",
       "      <td>1500</td>\n",
       "      <td>199</td>\n",
       "      <td>3061</td>\n",
       "      <td>558</td>\n",
       "      <td>1055</td>\n",
       "      <td>1142</td>\n",
       "      <td>1621</td>\n",
       "      <td>757</td>\n",
       "    </tr>\n",
       "    <tr>\n",
       "      <th>11208</th>\n",
       "      <td>2756</td>\n",
       "      <td>2052</td>\n",
       "      <td>2150</td>\n",
       "      <td>188</td>\n",
       "      <td>2795</td>\n",
       "      <td>825</td>\n",
       "      <td>800</td>\n",
       "      <td>816</td>\n",
       "      <td>1341</td>\n",
       "      <td>710</td>\n",
       "    </tr>\n",
       "    <tr>\n",
       "      <th>11220</th>\n",
       "      <td>1558</td>\n",
       "      <td>1634</td>\n",
       "      <td>2013</td>\n",
       "      <td>442</td>\n",
       "      <td>1522</td>\n",
       "      <td>498</td>\n",
       "      <td>506</td>\n",
       "      <td>690</td>\n",
       "      <td>719</td>\n",
       "      <td>674</td>\n",
       "    </tr>\n",
       "    <tr>\n",
       "      <th>11226</th>\n",
       "      <td>2203</td>\n",
       "      <td>7569</td>\n",
       "      <td>1076</td>\n",
       "      <td>440</td>\n",
       "      <td>4854</td>\n",
       "      <td>1831</td>\n",
       "      <td>2639</td>\n",
       "      <td>491</td>\n",
       "      <td>3155</td>\n",
       "      <td>406</td>\n",
       "    </tr>\n",
       "    <tr>\n",
       "      <th>11236</th>\n",
       "      <td>3041</td>\n",
       "      <td>1145</td>\n",
       "      <td>1431</td>\n",
       "      <td>108</td>\n",
       "      <td>1929</td>\n",
       "      <td>201</td>\n",
       "      <td>347</td>\n",
       "      <td>1021</td>\n",
       "      <td>562</td>\n",
       "      <td>623</td>\n",
       "    </tr>\n",
       "    <tr>\n",
       "      <th>11368</th>\n",
       "      <td>4384</td>\n",
       "      <td>1620</td>\n",
       "      <td>1251</td>\n",
       "      <td>158</td>\n",
       "      <td>2460</td>\n",
       "      <td>684</td>\n",
       "      <td>361</td>\n",
       "      <td>561</td>\n",
       "      <td>639</td>\n",
       "      <td>617</td>\n",
       "    </tr>\n",
       "    <tr>\n",
       "      <th>11373</th>\n",
       "      <td>2635</td>\n",
       "      <td>3408</td>\n",
       "      <td>1277</td>\n",
       "      <td>270</td>\n",
       "      <td>1842</td>\n",
       "      <td>304</td>\n",
       "      <td>265</td>\n",
       "      <td>691</td>\n",
       "      <td>756</td>\n",
       "      <td>372</td>\n",
       "    </tr>\n",
       "    <tr>\n",
       "      <th>11385</th>\n",
       "      <td>3042</td>\n",
       "      <td>1526</td>\n",
       "      <td>4135</td>\n",
       "      <td>507</td>\n",
       "      <td>2609</td>\n",
       "      <td>607</td>\n",
       "      <td>352</td>\n",
       "      <td>1232</td>\n",
       "      <td>647</td>\n",
       "      <td>1240</td>\n",
       "    </tr>\n",
       "  </tbody>\n",
       "</table>\n",
       "</div>"
      ],
      "text/plain": [
       "complaint_type  Blocked Driveway  HEAT/HOT WATER  Illegal Parking  Noise  \\\n",
       "incident_zip                                                               \n",
       "10025                        125            2397              736   1398   \n",
       "10467                       2068            6041              986    285   \n",
       "11207                       2062            2461             1500    199   \n",
       "11208                       2756            2052             2150    188   \n",
       "11220                       1558            1634             2013    442   \n",
       "11226                       2203            7569             1076    440   \n",
       "11236                       3041            1145             1431    108   \n",
       "11368                       4384            1620             1251    158   \n",
       "11373                       2635            3408             1277    270   \n",
       "11385                       3042            1526             4135    507   \n",
       "\n",
       "complaint_type  Noise - Residential  Noise - Street/Sidewalk  PAINT/PLASTER  \\\n",
       "incident_zip                                                                  \n",
       "10025                          2085                     1224            604   \n",
       "10467                          5807                      713           1955   \n",
       "11207                          3061                      558           1055   \n",
       "11208                          2795                      825            800   \n",
       "11220                          1522                      498            506   \n",
       "11226                          4854                     1831           2639   \n",
       "11236                          1929                      201            347   \n",
       "11368                          2460                      684            361   \n",
       "11373                          1842                      304            265   \n",
       "11385                          2609                      607            352   \n",
       "\n",
       "complaint_type  Street Condition  UNSANITARY CONDITION  Water System  \n",
       "incident_zip                                                          \n",
       "10025                        628                   714           481  \n",
       "10467                        612                  2192           560  \n",
       "11207                       1142                  1621           757  \n",
       "11208                        816                  1341           710  \n",
       "11220                        690                   719           674  \n",
       "11226                        491                  3155           406  \n",
       "11236                       1021                   562           623  \n",
       "11368                        561                   639           617  \n",
       "11373                        691                   756           372  \n",
       "11385                       1232                   647          1240  "
      ]
     },
     "execution_count": 96,
     "metadata": {},
     "output_type": "execute_result"
    }
   ],
   "source": [
    "top_zips_counts"
   ]
  },
  {
   "cell_type": "markdown",
   "metadata": {},
   "source": [
    "### Here we plot the data as we did before, except here, we select the data with the index of `top_zips`. This orders the data from left to right by zip code population. Interestingly, the most populous zip code only creates the sixth most complaints of the top ten."
   ]
  },
  {
   "cell_type": "code",
   "execution_count": 106,
   "metadata": {},
   "outputs": [
    {
     "data": {
      "text/plain": [
       "<matplotlib.axes._subplots.AxesSubplot at 0x7f503eb3f048>"
      ]
     },
     "execution_count": 106,
     "metadata": {},
     "output_type": "execute_result"
    },
    {
     "data": {
      "image/png": "[encoded data removed]",
      "text/plain": [
       "<Figure size 1080x720 with 1 Axes>"
      ]
     },
     "metadata": {},
     "output_type": "display_data"
    }
   ],
   "source": [
    "top_zips_counts.loc[top_zips.index].plot.bar(stacked=True, figsize=(15, 10))"
   ]
  },
  {
   "cell_type": "code",
   "execution_count": null,
   "metadata": {},
   "outputs": [],
   "source": []
  }
 ],
 "metadata": {
  "kernelspec": {
   "display_name": "Python 3",
   "language": "python",
   "name": "python3"
  },
  "language_info": {
   "codemirror_mode": {
    "name": "ipython",
    "version": 3
   },
   "file_extension": ".py",
   "mimetype": "text/x-python",
   "name": "python",
   "nbconvert_exporter": "python",
   "pygments_lexer": "ipython3",
   "version": "3.6.6"
  }
 },
 "nbformat": 4,
 "nbformat_minor": 2
}
